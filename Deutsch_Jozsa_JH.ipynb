{
 "cells": [
  {
   "cell_type": "markdown",
   "metadata": {},
   "source": [
    "## Deustsch Jozsa algorithm"
   ]
  },
  {
   "cell_type": "code",
   "execution_count": 1,
   "id": "cfff0b11",
   "metadata": {},
   "outputs": [],
   "source": [
    "import numpy as np\n",
    "import matplotlib.pyplot as plt\n",
    "from qiskit import IBMQ, Aer\n",
    "from qiskit import QuantumCircuit, assemble, transpile\n",
    "\n",
    "from qiskit.visualization import plot_histogram"
   ]
  },
  {
   "cell_type": "code",
   "execution_count": 2,
   "id": "3d53fa41",
   "metadata": {},
   "outputs": [],
   "source": [
    "# create a balanced oracle for 4 qubits (plus one output qubit)\n",
    "def constant_oracle():\n",
    "    oracle = QuantumCircuit(5)\n",
    "    oracle.barrier()\n",
    "    # could also just do nothing\n",
    "    oracle.x(4)\n",
    "    oracle.barrier()\n",
    "    return oracle\n",
    "    \n",
    "def balanced_oracle():\n",
    "    oracle = QuantumCircuit(5)\n",
    "    oracle.barrier()\n",
    "    oracle.cx(0, 4)\n",
    "    oracle.cx(1, 4)\n",
    "    oracle.barrier()\n",
    "    return oracle\n"
   ]
  },
  {
   "cell_type": "code",
   "execution_count": 3,
   "metadata": {},
   "outputs": [
    {
     "data": {
      "text/html": [
       "<pre style=\"word-wrap: normal;white-space: pre;background: #fff0;line-height: 1.1;font-family: &quot;Courier New&quot;,Courier,monospace\">      ░            ░ \n",
       "q_0: ─░───■────────░─\n",
       "      ░   │        ░ \n",
       "q_1: ─░───┼────■───░─\n",
       "      ░   │    │   ░ \n",
       "q_2: ─░───┼────┼───░─\n",
       "      ░   │    │   ░ \n",
       "q_3: ─░───┼────┼───░─\n",
       "      ░ ┌─┴─┐┌─┴─┐ ░ \n",
       "q_4: ─░─┤ X ├┤ X ├─░─\n",
       "      ░ └───┘└───┘ ░ </pre>"
      ],
      "text/plain": [
       "      ░            ░ \n",
       "q_0: ─░───■────────░─\n",
       "      ░   │        ░ \n",
       "q_1: ─░───┼────■───░─\n",
       "      ░   │    │   ░ \n",
       "q_2: ─░───┼────┼───░─\n",
       "      ░   │    │   ░ \n",
       "q_3: ─░───┼────┼───░─\n",
       "      ░ ┌─┴─┐┌─┴─┐ ░ \n",
       "q_4: ─░─┤ X ├┤ X ├─░─\n",
       "      ░ └───┘└───┘ ░ "
      ]
     },
     "execution_count": 3,
     "metadata": {},
     "output_type": "execute_result"
    }
   ],
   "source": [
    "balanced_oracle().draw()"
   ]
  },
  {
   "cell_type": "code",
   "execution_count": 4,
   "metadata": {},
   "outputs": [
    {
     "data": {
      "text/html": [
       "<pre style=\"word-wrap: normal;white-space: pre;background: #fff0;line-height: 1.1;font-family: &quot;Courier New&quot;,Courier,monospace\">      ░       ░ \n",
       "q_0: ─░───────░─\n",
       "      ░       ░ \n",
       "q_1: ─░───────░─\n",
       "      ░       ░ \n",
       "q_2: ─░───────░─\n",
       "      ░       ░ \n",
       "q_3: ─░───────░─\n",
       "      ░ ┌───┐ ░ \n",
       "q_4: ─░─┤ X ├─░─\n",
       "      ░ └───┘ ░ </pre>"
      ],
      "text/plain": [
       "      ░       ░ \n",
       "q_0: ─░───────░─\n",
       "      ░       ░ \n",
       "q_1: ─░───────░─\n",
       "      ░       ░ \n",
       "q_2: ─░───────░─\n",
       "      ░       ░ \n",
       "q_3: ─░───────░─\n",
       "      ░ ┌───┐ ░ \n",
       "q_4: ─░─┤ X ├─░─\n",
       "      ░ └───┘ ░ "
      ]
     },
     "execution_count": 4,
     "metadata": {},
     "output_type": "execute_result"
    }
   ],
   "source": [
    "constant_oracle().draw()"
   ]
  },
  {
   "cell_type": "code",
   "execution_count": 5,
   "id": "cbf51873",
   "metadata": {},
   "outputs": [
    {
     "name": "stderr",
     "output_type": "stream",
     "text": [
      "/Library/Frameworks/Python.framework/Versions/3.7/lib/python3.7/site-packages/ipykernel_launcher.py:11: DeprecationWarning: The QuantumCircuit.__iadd__() method is being deprecated. Use the compose() (potentially with the inplace=True argument) and tensor() methods which are more flexible w.r.t circuit register compatibility.\n",
      "  # This is added back by InteractiveShellApp.init_path()\n",
      "/Library/Frameworks/Python.framework/Versions/3.7/lib/python3.7/site-packages/qiskit/circuit/quantumcircuit.py:876: DeprecationWarning: The QuantumCircuit.extend() method is being deprecated. Use the compose() (potentially with the inplace=True argument) and tensor() methods which are more flexible w.r.t circuit register compatibility.\n",
      "  return self.extend(rhs)\n"
     ]
    },
    {
     "data": {
      "text/html": [
       "<pre style=\"word-wrap: normal;white-space: pre;background: #fff0;line-height: 1.1;font-family: &quot;Courier New&quot;,Courier,monospace\">     ┌───┐      ░            ░ ┌───┐ ░ ┌─┐         \n",
       "q_0: ┤ H ├──────░───■────────░─┤ H ├─░─┤M├─────────\n",
       "     ├───┤      ░   │        ░ ├───┤ ░ └╥┘┌─┐      \n",
       "q_1: ┤ H ├──────░───┼────■───░─┤ H ├─░──╫─┤M├──────\n",
       "     ├───┤      ░   │    │   ░ ├───┤ ░  ║ └╥┘┌─┐   \n",
       "q_2: ┤ H ├──────░───┼────┼───░─┤ H ├─░──╫──╫─┤M├───\n",
       "     ├───┤      ░   │    │   ░ ├───┤ ░  ║  ║ └╥┘┌─┐\n",
       "q_3: ┤ H ├──────░───┼────┼───░─┤ H ├─░──╫──╫──╫─┤M├\n",
       "     ├───┤┌───┐ ░ ┌─┴─┐┌─┴─┐ ░ └───┘ ░  ║  ║  ║ └╥┘\n",
       "q_4: ┤ X ├┤ H ├─░─┤ X ├┤ X ├─░──────────╫──╫──╫──╫─\n",
       "     └───┘└───┘ ░ └───┘└───┘ ░          ║  ║  ║  ║ \n",
       "c: 4/═══════════════════════════════════╩══╩══╩══╩═\n",
       "                                        0  1  2  3 </pre>"
      ],
      "text/plain": [
       "     ┌───┐      ░            ░ ┌───┐ ░ ┌─┐         \n",
       "q_0: ┤ H ├──────░───■────────░─┤ H ├─░─┤M├─────────\n",
       "     ├───┤      ░   │        ░ ├───┤ ░ └╥┘┌─┐      \n",
       "q_1: ┤ H ├──────░───┼────■───░─┤ H ├─░──╫─┤M├──────\n",
       "     ├───┤      ░   │    │   ░ ├───┤ ░  ║ └╥┘┌─┐   \n",
       "q_2: ┤ H ├──────░───┼────┼───░─┤ H ├─░──╫──╫─┤M├───\n",
       "     ├───┤      ░   │    │   ░ ├───┤ ░  ║  ║ └╥┘┌─┐\n",
       "q_3: ┤ H ├──────░───┼────┼───░─┤ H ├─░──╫──╫──╫─┤M├\n",
       "     ├───┤┌───┐ ░ ┌─┴─┐┌─┴─┐ ░ └───┘ ░  ║  ║  ║ └╥┘\n",
       "q_4: ┤ X ├┤ H ├─░─┤ X ├┤ X ├─░──────────╫──╫──╫──╫─\n",
       "     └───┘└───┘ ░ └───┘└───┘ ░          ║  ║  ║  ║ \n",
       "c: 4/═══════════════════════════════════╩══╩══╩══╩═\n",
       "                                        0  1  2  3 "
      ]
     },
     "execution_count": 5,
     "metadata": {},
     "output_type": "execute_result"
    }
   ],
   "source": [
    "# wrap oracle in the rest of the D-J algorithm\n",
    "# every qubit goes in equal superposition\n",
    "dj = QuantumCircuit(5, 4)\n",
    "for i in range(0, 4):\n",
    "    dj.h(i)\n",
    "# last qubit goes in |-> state for phase kickback\n",
    "dj.x(4)\n",
    "dj.h(4)\n",
    "\n",
    "# append the balanced oracle to this circuit\n",
    "dj += balanced_oracle()\n",
    "\n",
    "for i in range(0, 4):\n",
    "    dj.h(i)\n",
    "    dj.barrier(i)\n",
    "    dj.measure(i, i)\n",
    "\n",
    "dj.draw()"
   ]
  },
  {
   "cell_type": "code",
   "execution_count": 6,
   "id": "9e0ba601",
   "metadata": {},
   "outputs": [
    {
     "data": {
      "image/png": "[encoded data removed]",
      "text/plain": [
       "<Figure size 504x360 with 1 Axes>"
      ]
     },
     "execution_count": 6,
     "metadata": {},
     "output_type": "execute_result"
    }
   ],
   "source": [
    "sim = Aer.get_backend('aer_simulator')\n",
    "qobj = assemble(dj, sim)\n",
    "results = sim.run(qobj).result()\n",
    "answer = results.get_counts()\n",
    "plot_histogram(answer)"
   ]
  },
  {
   "cell_type": "code",
   "execution_count": 7,
   "id": "b86b176d",
   "metadata": {},
   "outputs": [
    {
     "name": "stdout",
     "output_type": "stream",
     "text": [
      "0\n",
      "1\n"
     ]
    }
   ],
   "source": [
    "# realize the balanced oracle in a classical circuit ie with regular python code\n",
    "def balanced_oracle_classical(bits):\n",
    "    # CNOT with if statements\n",
    "    if bits[0] == 1:\n",
    "        bits[4] = (bits[4] + 1) % 2\n",
    "    if bits[1] == 2:\n",
    "        bits[4] = (bits[4] + 1) % 2\n",
    "    return bits[4]\n",
    "           \n",
    "bits = [0,0,0,0,0]\n",
    "bits2 = [0, 1, 1, 1, 1]\n",
    "\n",
    "\n",
    "print(balanced_oracle_classical(bits))\n",
    "print(balanced_oracle_classical(bits2))"
   ]
  },
  {
   "cell_type": "code",
   "execution_count": null,
   "metadata": {},
   "outputs": [],
   "source": []
  }
 ],
 "metadata": {
  "interpreter": {
   "hash": "e774977668b7c0ae8309835a5187aa7fbf7669e7d0bb59755bc63e573643edcd"
  },
  "kernelspec": {
   "display_name": "Python 3.7.8 64-bit",
   "name": "python3"
  },
  "language_info": {
   "codemirror_mode": {
    "name": "ipython",
    "version": 3
   },
   "file_extension": ".py",
   "mimetype": "text/x-python",
   "name": "python",
   "nbconvert_exporter": "python",
   "pygments_lexer": "ipython3",
   "version": "3.7.8"
  }
 },
 "nbformat": 4,
 "nbformat_minor": 5
}
