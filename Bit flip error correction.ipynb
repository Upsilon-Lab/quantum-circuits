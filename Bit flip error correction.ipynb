{
 "cells": [
  {
   "cell_type": "code",
   "execution_count": 4,
   "id": "dda55a66",
   "metadata": {},
   "outputs": [],
   "source": [
    "import numpy as np\n",
    "import matplotlib.pyplot as plt\n",
    "from qiskit import IBMQ, Aer\n",
    "from qiskit import QuantumCircuit, assemble, transpile\n",
    "from qiskit.visualization import plot_histogram\n",
    "from qiskit.providers.aer import AerSimulator\n"
   ]
  },
  {
   "cell_type": "code",
   "execution_count": 5,
   "id": "3f516f66",
   "metadata": {},
   "outputs": [],
   "source": [
    "from qiskit.providers.aer.noise import NoiseModel\n",
    "from qiskit.providers.aer.noise.errors import pauli_error, depolarizing_error\n",
    "\n",
    "# https://qiskit.org/textbook/ch-quantum-hardware/measurement-error-mitigation.html\n",
    "def get_noise(p):\n",
    "#     error_meas = pauli_error([('X',p), ('I', 1 - p)])\n",
    "\n",
    "#     noise_model = NoiseModel()\n",
    "#     # noise_model.add_all_qubit_quantum_error(error_gate1, [\"x\"]) # measurement error is applied to measurements\n",
    "#     noise_model.add_all_qubit_quantum_error(error_meas, [\"x\"]) # single qubit gate error is applied to x gates\n",
    "    \n",
    "#     print(noise_model)\n",
    "#     return noise_model\n",
    "    \n",
    "    noise_model = NoiseModel()\n",
    "    error_gate1 = pauli_error([('X',p), ('I', 1 - p)])\n",
    "    noise_model.add_all_qubit_quantum_error(error_gate1, [\"x\"])\n",
    "    return noise_model\n",
    "\n",
    "\n",
    "def noisy_channel():\n",
    "    noisy = QuantumCircuit(3, name = 'noisy channel')\n",
    "    # simulate a noisy channel with a 1/3 chance to bit flip each qubit\n",
    "    chance = 1/3\n",
    "    noisy.x([0,1,2])\n",
    "    return noisy"
   ]
  },
  {
   "cell_type": "code",
   "execution_count": 6,
   "id": "dd2cd66e",
   "metadata": {},
   "outputs": [
    {
     "data": {
      "text/html": [
       "<pre style=\"word-wrap: normal;white-space: pre;background: #fff0;line-height: 1.1;font-family: &quot;Courier New&quot;,Courier,monospace\">                ░ ┌───┐ ░           ┌───┐┌─┐\n",
       "q_0: ──■────■───░─┤ X ├─░───■────■──┤ X ├┤M├\n",
       "     ┌─┴─┐  │   ░ ├───┤ ░ ┌─┴─┐  │  └─┬─┘└╥┘\n",
       "q_1: ┤ X ├──┼───░─┤ X ├─░─┤ X ├──┼────■───╫─\n",
       "     └───┘┌─┴─┐ ░ ├───┤ ░ └───┘┌─┴─┐  │   ║ \n",
       "q_2: ─────┤ X ├─░─┤ X ├─░──────┤ X ├──■───╫─\n",
       "          └───┘ ░ └───┘ ░      └───┘      ║ \n",
       "c: 1/═════════════════════════════════════╩═\n",
       "                                          0 </pre>"
      ],
      "text/plain": [
       "                ░ ┌───┐ ░           ┌───┐┌─┐\n",
       "q_0: ──■────■───░─┤ X ├─░───■────■──┤ X ├┤M├\n",
       "     ┌─┴─┐  │   ░ ├───┤ ░ ┌─┴─┐  │  └─┬─┘└╥┘\n",
       "q_1: ┤ X ├──┼───░─┤ X ├─░─┤ X ├──┼────■───╫─\n",
       "     └───┘┌─┴─┐ ░ ├───┤ ░ └───┘┌─┴─┐  │   ║ \n",
       "q_2: ─────┤ X ├─░─┤ X ├─░──────┤ X ├──■───╫─\n",
       "          └───┘ ░ └───┘ ░      └───┘      ║ \n",
       "c: 1/═════════════════════════════════════╩═\n",
       "                                          0 "
      ]
     },
     "execution_count": 6,
     "metadata": {},
     "output_type": "execute_result"
    }
   ],
   "source": [
    "qc = QuantumCircuit(3, 1)\n",
    "# qc.initialize([1,0,0,0,0,0,0,0])\n",
    "# X|+> = |-> measure\n",
    "\n",
    "qc.cnot(0,1)\n",
    "qc.cnot(0,2)\n",
    "qc.barrier()\n",
    "\n",
    "# apply noisy channel\n",
    "# compose is the new way to append circuits\n",
    "qc = qc.compose(noisy_channel())\n",
    "\n",
    "qc.barrier()\n",
    "qc.cnot(0, 1)\n",
    "qc.cnot(0,2)\n",
    "qc.ccx(2, 1, 0)\n",
    "\n",
    "qc.measure(0, 0)\n",
    "qc.draw()"
   ]
  },
  {
   "cell_type": "code",
   "execution_count": 9,
   "id": "c7d4300f",
   "metadata": {
    "scrolled": true
   },
   "outputs": [
    {
     "name": "stdout",
     "output_type": "stream",
     "text": [
      "{'0': 71, '1': 9929}\n",
      "1.25\n"
     ]
    },
    {
     "data": {
      "image/png": "[encoded data removed]",
      "text/plain": [
       "<Figure size 504x360 with 1 Axes>"
      ]
     },
     "execution_count": 9,
     "metadata": {},
     "output_type": "execute_result"
    }
   ],
   "source": [
    "# run it on simulator\n",
    "\n",
    "noise = get_noise(0.0)\n",
    "sim = Aer.get_backend('aer_simulator')\n",
    "sim = AerSimulator() # noise_model=noise\n",
    "qobj = assemble(qc, sim, shots = 10 * 1024)\n",
    "results = sim.run(qobj).result()\n",
    "answer = results.get_counts()\n",
    "\n",
    "\n",
    "noise = get_noise(1/20)\n",
    "shots = 10000\n",
    "counts = sim.run(qobj, noise_model=noise, shots=shots).result().get_counts()\n",
    "\n",
    "\n",
    "print(counts)\n",
    "print(1/(20**3) * shots)\n",
    "plot_histogram(counts)"
   ]
  },
  {
   "cell_type": "code",
   "execution_count": null,
   "id": "5645784e",
   "metadata": {},
   "outputs": [],
   "source": []
  },
  {
   "cell_type": "code",
   "execution_count": null,
   "id": "3fed9eef",
   "metadata": {},
   "outputs": [],
   "source": []
  }
 ],
 "metadata": {
  "kernelspec": {
   "display_name": "Python 3 (ipykernel)",
   "language": "python",
   "name": "python3"
  },
  "language_info": {
   "codemirror_mode": {
    "name": "ipython",
    "version": 3
   },
   "file_extension": ".py",
   "mimetype": "text/x-python",
   "name": "python",
   "nbconvert_exporter": "python",
   "pygments_lexer": "ipython3",
   "version": "3.9.7"
  }
 },
 "nbformat": 4,
 "nbformat_minor": 5
}
